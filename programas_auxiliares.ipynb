{
 "cells": [
  {
   "cell_type": "code",
   "execution_count": 1,
   "metadata": {},
   "outputs": [],
   "source": [
    "import os\n",
    "import re\n",
    "\n",
    "extensoes = [\n",
    "    '.java',\n",
    "    '.properties'\n",
    "]\n",
    "\n",
    "def buscar_palavra_em_arquivos(diretorio, palavra):\n",
    "    # Percorrer todos os arquivos e subpastas do diretório\n",
    "    for raiz, pastas, arquivos in os.walk(diretorio):\n",
    "        for arquivo in arquivos:\n",
    "            # Construir o caminho completo do arquivo\n",
    "            caminho_arquivo = os.path.join(raiz, arquivo)\n",
    "            # if not any(caminho_arquivo.endswith(e) for e in extensoes):\n",
    "            #     continue\n",
    "            try:\n",
    "                # Abrir o arquivo em modo de leitura\n",
    "                with open(caminho_arquivo, 'r', encoding='utf-8') as f:\n",
    "                    # Ler o conteúdo do arquivo\n",
    "                    conteudo = f.read()\n",
    "                    # Buscar a palavra no conteúdo do arquivo\n",
    "                    if re.search(palavra, conteudo):\n",
    "                        print(f'A palavra \"{palavra}\" foi encontrada no arquivo: {caminho_arquivo}')\n",
    "            except Exception as e:\n",
    "                # print(f'Ocorreu um erro ao ler o arquivo {caminho_arquivo}: {e}')\n",
    "                pass\n",
    "\n",
    "# Diretório que deseja pesquisar\n",
    "# diretorio = 'G:\\\\Prog\\\\workspace\\\\environlink\\\\app-site\\\\evl-backend\\\\api\\\\src\\\\main\\\\java\\\\com\\\\environlink'\n",
    "diretorio = 'G:\\\\Prog\\\\workspace\\\\environlink\\\\app-site\\\\OceanStream'\n",
    "\n",
    "# Palavra que deseja buscar nos arquivos\n",
    "palavra = ':5500'\n",
    "\n",
    "# Chamar a função para buscar a palavra nos arquivos do diretório\n",
    "buscar_palavra_em_arquivos(diretorio, palavra)\n"
   ]
  },
  {
   "cell_type": "code",
   "execution_count": 2,
   "metadata": {},
   "outputs": [],
   "source": [
    "def processar_linha(linha):\n",
    "    # Remove espaços em branco ao redor da linha\n",
    "    linha = linha.strip()\n",
    "    # Preenche com zeros à esquerda até que tenha 6 caracteres\n",
    "    linha = linha.zfill(6)\n",
    "    # Insere os caracteres ':' entre os dígitos apropriados\n",
    "    linha_formatada = f\"{linha[:2]}/{linha[2:4]}/{linha[4:]}\"\n",
    "    return linha_formatada\n",
    "\n",
    "def processar_arquivo(entrada, saida):\n",
    "    # Abre o arquivo de entrada para leitura\n",
    "    with open(entrada, 'r') as file_in:\n",
    "        # Abre o arquivo de saída para escrita\n",
    "        with open(saida, 'w') as file_out:\n",
    "            # Processa cada linha do arquivo de entrada\n",
    "            for linha in file_in:\n",
    "                # Processa a linha\n",
    "                linha_formatada = processar_linha(linha)\n",
    "                # Escreve a linha formatada no arquivo de saída\n",
    "                file_out.write(linha_formatada + '\\n')\n",
    "\n",
    "# Nome do arquivo de entrada\n",
    "arquivo_entrada = 'in.g'\n",
    "# Nome do arquivo de saída\n",
    "arquivo_saida = 'out.g'\n",
    "\n",
    "# Chama a função para processar o arquivo\n",
    "processar_arquivo(arquivo_entrada, arquivo_saida)\n"
   ]
  }
 ],
 "metadata": {
  "kernelspec": {
   "display_name": "Python 3",
   "language": "python",
   "name": "python3"
  },
  "language_info": {
   "codemirror_mode": {
    "name": "ipython",
    "version": 3
   },
   "file_extension": ".py",
   "mimetype": "text/x-python",
   "name": "python",
   "nbconvert_exporter": "python",
   "pygments_lexer": "ipython3",
   "version": "3.11.2"
  }
 },
 "nbformat": 4,
 "nbformat_minor": 2
}
